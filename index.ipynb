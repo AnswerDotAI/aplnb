{
 "cells": [
  {
   "cell_type": "markdown",
   "id": "d969a371",
   "metadata": {},
   "source": [
    "# Using `apl` magics\n",
    "> An introduction to `aplnb`"
   ]
  },
  {
   "cell_type": "markdown",
   "id": "ba9ee970",
   "metadata": {},
   "source": [
    "`aplnb` adds `%apl` and `%%apl` functions to Jupyter and IPython, which exectute expressions in Dyalog APL."
   ]
  },
  {
   "cell_type": "markdown",
   "id": "c9fad7fe",
   "metadata": {},
   "source": [
    "## Installation"
   ]
  },
  {
   "cell_type": "markdown",
   "id": "67e0aaac",
   "metadata": {},
   "source": [
    "First, install [Dyalog APL](https://www.dyalog.com/). Dyalog provides a basic license for free. Once Dyalog is installed, install aplnb with:\n",
    "\n",
    "```\n",
    "pip install aplnb\n",
    "```\n",
    "\n",
    "Once that's complete, you can install the magics to all IPython and Jupyter sessions automatically by running in your terminal:\n",
    "\n",
    "```\n",
    "aplnb_install\n",
    "```"
   ]
  },
  {
   "cell_type": "markdown",
   "id": "cb919ad1",
   "metadata": {},
   "source": [
    "## Usage"
   ]
  },
  {
   "cell_type": "markdown",
   "id": "d10e0e57",
   "metadata": {},
   "source": [
    "After first running an `apl` magic in a notebook, the [APL language bar](https://abrudz.github.io/lb/apl) by Adám Brudzewsky is automatically added to the current page. (There is one change to Adám's original version, which is that you can type a backtick twice in a row to enter triple backticks. To get a `⋄` glyph, type backtick-q.)\n",
    "\n",
    "You can use either a cell magic (`%%ai`) or a line magic (`%ai`). In either case the expression is evaluated and returned:"
   ]
  },
  {
   "cell_type": "code",
   "execution_count": null,
   "id": "93495e59",
   "metadata": {},
   "outputs": [
    {
     "data": {
      "text/html": [
       "<script src=\"https://abrudz.github.io/lb/lb.js\"></script>"
      ],
      "text/plain": [
       "<IPython.core.display.HTML object>"
      ]
     },
     "metadata": {},
     "output_type": "display_data"
    },
    {
     "data": {
      "text/plain": [
       "[1, 4, 9]"
      ]
     },
     "execution_count": null,
     "metadata": {},
     "output_type": "execute_result"
    }
   ],
   "source": [
    "%%apl\n",
    "y←⍳3\n",
    "z←y×y"
   ]
  },
  {
   "cell_type": "code",
   "execution_count": null,
   "id": "5742fe99",
   "metadata": {},
   "outputs": [
    {
     "data": {
      "text/plain": [
       "[3, 6, 9, 12]"
      ]
     },
     "execution_count": null,
     "metadata": {},
     "output_type": "execute_result"
    }
   ],
   "source": [
    "%apl 3×⍳4"
   ]
  },
  {
   "cell_type": "code",
   "execution_count": null,
   "id": "69a7582d",
   "metadata": {},
   "outputs": [
    {
     "data": {
      "text/plain": [
       "'ABCDEFGHIJKLMNOPQRSTUVWXYZ'"
      ]
     },
     "execution_count": null,
     "metadata": {},
     "output_type": "execute_result"
    }
   ],
   "source": [
    "%apl ⎕A"
   ]
  },
  {
   "cell_type": "markdown",
   "id": "593deaea",
   "metadata": {},
   "source": [
    "You can store the value of an expression in a python variable using the line magic. Scalars, lists, and nest lists are used:"
   ]
  },
  {
   "cell_type": "code",
   "execution_count": null,
   "id": "c8c46b7c",
   "metadata": {},
   "outputs": [
    {
     "name": "stdout",
     "output_type": "stream",
     "text": [
      "[1, 4, 9]\n"
     ]
    }
   ],
   "source": [
    "z = %apl z\n",
    "print(z)"
   ]
  },
  {
   "cell_type": "markdown",
   "id": "208d07eb",
   "metadata": {},
   "source": [
    "To avoid having the expression returned and/or displayed, end the last line with a `;`."
   ]
  },
  {
   "cell_type": "code",
   "execution_count": null,
   "id": "9ccd0817",
   "metadata": {},
   "outputs": [],
   "source": [
    "%%apl\n",
    "a←2 2 ⍴ ⍳4;"
   ]
  },
  {
   "cell_type": "markdown",
   "id": "bf74dd92",
   "metadata": {},
   "source": [
    "You can print from cell magics using the standard APL ⎕ glyph:"
   ]
  },
  {
   "cell_type": "code",
   "execution_count": null,
   "id": "084137cd",
   "metadata": {},
   "outputs": [
    {
     "name": "stdout",
     "output_type": "stream",
     "text": [
      "1 2\n",
      "3 4\n"
     ]
    }
   ],
   "source": [
    "%%apl\n",
    "⎕←a;"
   ]
  },
  {
   "cell_type": "markdown",
   "id": "390ce835",
   "metadata": {},
   "source": [
    "To use numpy, just pass the result of `%apl` into `np.array`:"
   ]
  },
  {
   "cell_type": "code",
   "execution_count": null,
   "id": "17819843",
   "metadata": {},
   "outputs": [],
   "source": [
    "import numpy as np"
   ]
  },
  {
   "cell_type": "code",
   "execution_count": null,
   "id": "04407ed2",
   "metadata": {},
   "outputs": [
    {
     "data": {
      "text/plain": [
       "array([[1, 2],\n",
       "       [3, 4]])"
      ]
     },
     "execution_count": null,
     "metadata": {},
     "output_type": "execute_result"
    }
   ],
   "source": [
    "a = %apl a\n",
    "np.array(a)"
   ]
  },
  {
   "cell_type": "markdown",
   "id": "e61c4ea2",
   "metadata": {},
   "source": [
    "## Learning APL"
   ]
  },
  {
   "cell_type": "markdown",
   "id": "e238320a",
   "metadata": {},
   "source": [
    "To start learning APL, follow the [17 video series](https://forums.fast.ai/t/apl-array-programming/97188) run by Jeremy Howard, and have a look at the [study notes](https://fastai.github.io/apl-study/apl.html)."
   ]
  },
  {
   "cell_type": "code",
   "execution_count": null,
   "id": "7e7eec9d",
   "metadata": {},
   "outputs": [],
   "source": []
  }
 ],
 "metadata": {
  "kernelspec": {
   "display_name": "python3",
   "language": "python",
   "name": "python3"
  }
 },
 "nbformat": 4,
 "nbformat_minor": 5
}
