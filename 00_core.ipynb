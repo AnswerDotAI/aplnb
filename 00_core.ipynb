{
 "cells": [
  {
   "cell_type": "code",
   "execution_count": null,
   "id": "c54b1bef",
   "metadata": {},
   "outputs": [],
   "source": [
    "#| default_exp core"
   ]
  },
  {
   "cell_type": "markdown",
   "id": "a1f9e825",
   "metadata": {},
   "source": [
    "# aplnb IPython magic\n",
    "> Provides `apl` magics in Jupyter and IPython"
   ]
  },
  {
   "cell_type": "code",
   "execution_count": null,
   "id": "fe6dcafd",
   "metadata": {},
   "outputs": [],
   "source": [
    "#| export\n",
    "from pynapl.APL import APL\n",
    "from pathlib import Path\n",
    "from IPython.core.magic import register_cell_magic\n",
    "from IPython.display import display, HTML\n",
    "from IPython.paths import get_ipython_dir"
   ]
  },
  {
   "cell_type": "code",
   "execution_count": null,
   "id": "04f56c87",
   "metadata": {},
   "outputs": [],
   "source": [
    "#| export\n",
    "class APLMagic:\n",
    "    def __init__(self):\n",
    "        self.o = APL()\n",
    "        self.script_loaded = False\n",
    "\n",
    "    def apl(self, line, cell=None):\n",
    "        if line and not cell: cell=line\n",
    "        if not self.script_loaded:\n",
    "            display(HTML('<script src=\"https://abrudz.github.io/lb/lb.js\"></script>'))\n",
    "            self.script_loaded = True\n",
    "        res = self.o.eval(cell)\n",
    "        if line: return res"
   ]
  },
  {
   "cell_type": "code",
   "execution_count": null,
   "id": "953c6348",
   "metadata": {},
   "outputs": [],
   "source": [
    "#| export\n",
    "def create_magic(shell=None):\n",
    "    if not shell: shell = get_ipython()\n",
    "    apl_magic = APLMagic()\n",
    "    shell.register_magic_function(apl_magic.apl, 'line_cell', 'apl')"
   ]
  },
  {
   "cell_type": "code",
   "execution_count": null,
   "id": "858b3925",
   "metadata": {},
   "outputs": [],
   "source": [
    "# Only required if you don't load the extension\n",
    "create_magic()"
   ]
  },
  {
   "cell_type": "code",
   "execution_count": null,
   "id": "93495e59",
   "metadata": {},
   "outputs": [
    {
     "data": {
      "text/html": [
       "<script src=\"https://abrudz.github.io/lb/lb.js\"></script>"
      ],
      "text/plain": [
       "<IPython.core.display.HTML object>"
      ]
     },
     "metadata": {},
     "output_type": "display_data"
    }
   ],
   "source": [
    "%%apl\n",
    "x←⍳3"
   ]
  },
  {
   "cell_type": "code",
   "execution_count": null,
   "id": "01890123",
   "metadata": {},
   "outputs": [
    {
     "data": {
      "text/plain": [
       "[1, 2, 3]"
      ]
     },
     "execution_count": null,
     "metadata": {},
     "output_type": "execute_result"
    }
   ],
   "source": [
    "%apl x"
   ]
  },
  {
   "cell_type": "code",
   "execution_count": null,
   "id": "a52bfb42",
   "metadata": {},
   "outputs": [
    {
     "name": "stdout",
     "output_type": "stream",
     "text": [
      "1 2 3\n"
     ]
    }
   ],
   "source": [
    "%%apl\n",
    "⎕←x"
   ]
  },
  {
   "cell_type": "code",
   "execution_count": null,
   "id": "3c7ff112",
   "metadata": {},
   "outputs": [],
   "source": [
    "x = %apl x"
   ]
  },
  {
   "cell_type": "code",
   "execution_count": null,
   "id": "7bd64eb5",
   "metadata": {},
   "outputs": [
    {
     "data": {
      "text/plain": [
       "[1, 2, 3]"
      ]
     },
     "execution_count": null,
     "metadata": {},
     "output_type": "execute_result"
    }
   ],
   "source": [
    "x"
   ]
  },
  {
   "cell_type": "code",
   "execution_count": null,
   "id": "a9b17670",
   "metadata": {},
   "outputs": [
    {
     "data": {
      "text/plain": [
       "'ABCDEFGHIJKLMNOPQRSTUVWXYZ'"
      ]
     },
     "execution_count": null,
     "metadata": {},
     "output_type": "execute_result"
    }
   ],
   "source": [
    "%apl ⎕A"
   ]
  },
  {
   "cell_type": "code",
   "execution_count": null,
   "id": "3e0cb6bc",
   "metadata": {},
   "outputs": [],
   "source": [
    "#|export\n",
    "def load_ipython_extension(ipython): create_magic(shell=ipython)"
   ]
  },
  {
   "cell_type": "code",
   "execution_count": null,
   "id": "66869255",
   "metadata": {},
   "outputs": [],
   "source": [
    "#| export\n",
    "def create_ipython_config():\n",
    "    ipython_dir = Path(get_ipython_dir())\n",
    "    cf = ipython_dir/'profile_default'/'ipython_config.py'\n",
    "    cf.parent.mkdir(parents=True, exist_ok=True)\n",
    "    if cf.exists() and 'aplnb' in cf.read_text(): return print('aplnb already installed!')\n",
    "    with cf.open(mode='a') as f: f.write(\"\\nc.InteractiveShellApp.extensions.append('aplnb')\\n\\n\")\n",
    "    print(f\"Jupyter config updated at {cf}\")"
   ]
  },
  {
   "cell_type": "markdown",
   "id": "94ec4289",
   "metadata": {},
   "source": [
    "## Export -"
   ]
  },
  {
   "cell_type": "code",
   "execution_count": null,
   "id": "1e9ee5c1",
   "metadata": {},
   "outputs": [],
   "source": [
    "#|hide\n",
    "#|eval: false\n",
    "from nbdev.doclinks import nbdev_export\n",
    "nbdev_export()"
   ]
  },
  {
   "cell_type": "code",
   "execution_count": null,
   "id": "451d1ea6",
   "metadata": {},
   "outputs": [],
   "source": []
  }
 ],
 "metadata": {
  "kernelspec": {
   "display_name": "python3",
   "language": "python",
   "name": "python3"
  }
 },
 "nbformat": 4,
 "nbformat_minor": 5
}
