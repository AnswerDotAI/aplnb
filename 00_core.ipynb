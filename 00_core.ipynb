{
 "cells": [
  {
   "cell_type": "code",
   "execution_count": null,
   "id": "c54b1bef",
   "metadata": {},
   "outputs": [],
   "source": [
    "#| default_exp core"
   ]
  },
  {
   "cell_type": "markdown",
   "id": "a1f9e825",
   "metadata": {},
   "source": [
    "# aplnb IPython magic\n",
    "> Provides `apl` magics in Jupyter and IPython"
   ]
  },
  {
   "cell_type": "code",
   "execution_count": null,
   "id": "fe6dcafd",
   "metadata": {},
   "outputs": [],
   "source": [
    "#| export\n",
    "from pynapl.APL import APL\n",
    "from pathlib import Path\n",
    "from IPython.core.magic import register_cell_magic\n",
    "from IPython.display import display, Javascript\n",
    "from IPython.paths import get_ipython_dir"
   ]
  },
  {
   "cell_type": "code",
   "execution_count": null,
   "id": "dab3d4c3",
   "metadata": {},
   "outputs": [],
   "source": [
    "__file__ = './00_core.ipynb'"
   ]
  },
  {
   "cell_type": "code",
   "execution_count": null,
   "id": "04f56c87",
   "metadata": {},
   "outputs": [],
   "source": [
    "#| export\n",
    "class APLMagic:\n",
    "    def __init__(self):\n",
    "        self.o = APL()\n",
    "        self._loaded = False\n",
    "\n",
    "    def apl(self, line, cell=None):\n",
    "        if line and not cell: cell=line\n",
    "        cell = cell.rstrip()\n",
    "        if not self._loaded:\n",
    "            p = Path(__file__).resolve().parent\n",
    "            js = (p/'lb.js').read_text()\n",
    "            display(Javascript(js))\n",
    "            self._loaded = True\n",
    "        disp = True\n",
    "        if cell.endswith(';'): disp,cell = False,cell[:-1]\n",
    "        res = self.o.eval(cell) or None\n",
    "        if disp: return res"
   ]
  },
  {
   "cell_type": "code",
   "execution_count": null,
   "id": "953c6348",
   "metadata": {},
   "outputs": [],
   "source": [
    "#| export\n",
    "def create_magic(shell=None):\n",
    "    if not shell: shell = get_ipython()\n",
    "    apl_magic = APLMagic()\n",
    "    shell.register_magic_function(apl_magic.apl, 'line_cell', 'apl')"
   ]
  },
  {
   "cell_type": "code",
   "execution_count": null,
   "id": "858b3925",
   "metadata": {},
   "outputs": [],
   "source": [
    "# Only required if you don't load the extension\n",
    "create_magic()"
   ]
  },
  {
   "cell_type": "code",
   "execution_count": null,
   "id": "f06477ea",
   "metadata": {},
   "outputs": [
    {
     "data": {
      "application/javascript": [
       "; (_ => {\n",
       "\tlet hc = { '<': '&lt;', '&': '&amp;', \"'\": '&apos;', '\"': '&quot;' }, he = x => x.replace(/[<&'\"]/g, c => hc[c]) //html chars and escape fn\n",
       "\t\t, tcs = '<-←xx×/\\\\×:-÷*O⍟[-⌹-]⌹OO○77⌈FF⌈ll⌊LL⌊T_⌶II⌶|_⊥TT⊤-|⊣|-⊢=/≠L-≠<=≤<_≤>=≥>_≥==≡=_≡7=≢Z-≢vv∨^^∧^~⍲v~⍱^|↑v|↓((⊂cc⊂(_⊆c_⊆))⊃[|⌷|]⌷A|⍋V|⍒ii⍳i_⍸ee∊e_⍷' +\n",
       "\t\t\t'uu∪UU∪nn∩/-⌿\\\\-⍀,-⍪rr⍴pp⍴O|⌽O-⊖O\\\\⍉::¨\"\"¨~:⍨~\"⍨*:⍣*\"⍣oo∘o:⍤o\"⍤O:⍥O\"⍥[\\'⍞\\']⍞[]⎕[:⍠:]⍠[=⌸=]⌸[<⌺>]⌺o_⍎oT⍕o-⍕<>⋄^v⋄on⍝->→aa⍺ww⍵VV∇v-∇--¯0~⍬' +\n",
       "\t\t\t'AA∆^-∆A_⍙^=⍙[?⍰?]⍰:V⍢∇\"⍢||∥ox¤)_⊇_)⊇V~⍫\\'\\'`'\n",
       "\t\t, lbs = ['←←\\nASSIGN', ' ', '++\\nconjugate\\nplus', '--\\nnegate\\nminus', '××\\ndirection\\ntimes', '÷÷\\nreciprocal\\ndivide', '**\\nexponential\\npower', '⍟⍟\\nnatural logarithm\\nlogarithm',\n",
       "\t\t\t'⌹⌹\\nmatrix inverse\\nmatrix divide', '○○\\npi times\\ncircular', '!!\\nfactorial\\nbinomial', '??\\nroll\\ndeal', ' ', '||\\nmagnitude\\nresidue',\n",
       "\t\t\t'⌈⌈\\nceiling\\nmaximum', '⌊⌊\\nfloor\\nminimum', '⊥⊥\\ndecode', '⊤⊤\\nencode', '⊣⊣\\nsame\\nleft', '⊢⊢\\nsame\\nright', ' ', '==\\nequal', '≠≠\\nunique mask\\nnot equal',\n",
       "\t\t\t'≤≤\\nless than or equal to', '<<\\nless than', '>>\\ngreater than', '≥≥\\ngreater than or equal to', '≡≡\\ndepth\\nmatch', '≢≢\\ntally\\nnot match', ' ', '∨∨\\ngreatest common divisor/or',\n",
       "\t\t\t'∧∧\\nlowest common multiple/and', '⍲⍲\\nnand', '⍱⍱\\nnor', ' ', '↑↑\\nmix\\ntake', '↓↓\\nsplit\\ndrop', '⊂⊂\\nenclose\\npartioned enclose', '⊃⊃\\nfirst\\npick', '⊆⊆\\nnest\\npartition', '⌷⌷\\nmaterialise\\nindex', '⍋⍋\\ngrade up\\ngrades up',\n",
       "\t\t\t'⍒⍒\\ngrade down\\ngrades down', ' ', '⍳⍳\\nindices\\nindices of', '⍸⍸\\nwhere\\ninterval index', '∊∊\\nenlist\\nmember of', '⍷⍷\\nfind', '∪∪\\nunique\\nunion', '∩∩\\nintersection', '~~\\nnot\\nwithout', ' ',\n",
       "\t\t\t'//\\nreplicate\\nReduce', '\\\\\\\\\\n\\expand\\nScan', '⌿⌿\\nreplicate first\\nReduce First', '⍀⍀\\nexpand first\\nScan First', ' ', ',,\\nravel\\ncatenate/laminate',\n",
       "\t\t\t'⍪⍪\\ntable\\ncatenate first/laminate', '⍴⍴\\nshape\\nreshape', '⌽⌽\\nreverse\\nrotate', '⊖⊖\\nreverse first\\nrotate first',\n",
       "\t\t\t'⍉⍉\\ntranspose\\nreorder axes', ' ', '¨¨\\nEach', '⍨⍨\\nConstant\\nSelf\\nSwap', '⍣⍣\\nRepeat\\nUntil', '..\\nOuter Product (∘.)\\nInner Product',\n",
       "\t\t\t'∘∘\\nOUTER PRODUCT (∘.)\\nBind\\nBeside', '⍤⍤\\nRank\\nAtop', '⍥⍥\\nOver', '@@\\nAt', ' ', '⍞⍞\\nSTDIN\\nSTDERR', '⎕⎕\\nEVALUATED STDIN\\nSTDOUT\\nSYSTEM NAME PREFIX', '⍠⍠\\nVariant',\n",
       "\t\t\t'⌸⌸\\nIndex Key\\nKey', '⌺⌺\\nStencil', '⌶⌶\\nI-Beam', '⍎⍎\\nexecute', '⍕⍕\\nformat', ' ', '⋄⋄\\nSTATEMENT SEPARATOR', '⍝⍝\\nCOMMENT', '→→\\nABORT\\nBRANCH', '⍵⍵\\nRIGHT ARGUMENT\\nRIGHT OPERAND (⍵⍵)', '⍺⍺\\nLEFT ARGUMENT\\nLEFT OPERAND (⍺⍺)',\n",
       "\t\t\t'∇∇\\nrecursion\\nRecursion (∇∇)', '&&\\nSpawn', ' ', '¯¯\\nNEGATIVE', '⍬⍬\\nEMPTY NUMERIC VECTOR', '∆∆\\nIDENTIFIER CHARACTER', '⍙⍙\\nIDENTIFIER CHARACTER']\n",
       "\t\t, bqk = ' =1234567890-qwertyuiop\\\\asdfghjk∙l;\\'zxcvbnm,./q[]+!@#$%^&*()_QWERTYUIOP|ASDFGHJKL:\"ZXCVBNM<>?~{}'.replace(/∙/g, '')\n",
       "\t\t, bqv = '`÷¨¯<≤=≥>≠∨∧×⋄⍵∊⍴~↑↓⍳○*⊢∙⍺⌈⌊_∇∆∘\\'⎕⍎⍕∙⊂⊃∩∪⊥⊤|⍝⍀⌿⋄←→⌹⌶⍫⍒⍋⌽⍉⊖⍟⍱⍲!⍰W⍷R⍨YU⍸⍥⍣⊣ASDF⍢H⍤⌸⌷≡≢⊆⊇CVB¤∥⍪⍙⍠⌺⍞⍬'.replace(/∙/g, '')\n",
       "\t\t, tc = {}, bqc = {} //tab completions and ` completions\n",
       "\tfor (let i = 0; i < bqk.length; i++)bqc[bqk[i]] = bqv[i]\n",
       "\tfor (let i = 0; i < tcs.length; i += 3)tc[tcs[i] + tcs[i + 1]] = tcs[i + 2]\n",
       "\tfor (let i = 0; i < tcs.length; i += 3) { let k = tcs[i + 1] + tcs[i]; tc[k] = tc[k] || tcs[i + 2] }\n",
       "\tlet lbh = ''; for (let i = 0; i < lbs.length; i++) {\n",
       "\t\tlet ks = []\n",
       "\t\tfor (let j = 0; j < tcs.length; j += 3)if (lbs[i][0] === tcs[j + 2]) ks.push('\\n' + tcs[j] + ' ' + tcs[j + 1] + ' <tab>')\n",
       "\t\tfor (let j = 0; j < bqk.length; j++)if (lbs[i][0] === bqv[j]) ks.push('\\n` ' + bqk[j])\n",
       "\t\tlbh += '<b title=\"' + he(lbs[i].slice(1) + (ks.length ? '\\n' + ks.join('') : '')) + '\">' + lbs[i][0] + '</b>'\n",
       "\t}\n",
       "\tlet d = document, el = d.createElement('div'); el.innerHTML =\n",
       "\t\t`<div class=ngn_lb><span class=ngn_x title=Close>❎</span>${lbh}</div>\n",
       " <style>@font-face{font-family:\"DejaVu Sans Mono\";src:local(\"DejaVu Sans Mono\"),url(DejaVuBQNSansMono.ttf)format('ttf');}</style>\n",
       " <style>\n",
       "  .ngn_lb{position:fixed;top:0;left:0;right:0;background-color:#eee;color:#000;cursor:default;z-index:2147483647;\n",
       "    font-family:\"DejaVu Sans Mono\",monospace;border-bottom:solid #999 1px;padding:2px 2px 0 2px;word-wrap:break-word;}\n",
       "  .ngn_lb b{cursor:pointer;padding:0 1px;font-weight:normal}\n",
       "  .ngn_lb b:hover,.ngn_bq .ngn_lb{background-color:#777;color:#fff}\n",
       "  .ngn_x{float:right;color:#999;cursor:pointer;margin-top:-3px}\n",
       "  .ngn_x:hover{color:#f00}\n",
       " </style>`\n",
       "\td.body.appendChild(el)\n",
       "\tlet t, ts = [], lb = el.firstChild, bqm = 0 //t:textarea or input, lb:language bar, bqm:backquote mode\n",
       "\tlet pd = x => x.preventDefault()\n",
       "\tlet ev = (x, t, f, c) => x.addEventListener(t, f, c)\n",
       "\tev(lb, 'mousedown', x => {\n",
       "\t\tif (x.target.classList.contains('ngn_x')) { lb.hidden = 1; upd(); pd(x); return }\n",
       "\t\tif (x.target.nodeName === 'B' && t) {\n",
       "\t\t\tlet i = t.selectionStart, j = t.selectionEnd, v = t.value, s = x.target.textContent\n",
       "\t\t\tif (i != null && j != null) { t.value = v.slice(0, i) + s + v.slice(j); t.selectionStart = t.selectionEnd = i + 1 }\n",
       "\t\t\tpd(x); return\n",
       "\t\t}\n",
       "\t})\n",
       "\tlet fk = x => {\n",
       "\t\tlet t = x.target\n",
       "\t\tif (bqm) {\n",
       "\t\t\tlet i = t.selectionStart, v = t.value, c = bqc[x.key]\n",
       "\t\t\tif (x.key === '`') {\n",
       "\t\t\t\tt.value = v.slice(0, i) + '`' + v.slice(i)\n",
       "\t\t\t\tt.selectionStart = t.selectionEnd = i + 1\n",
       "\t\t\t\tbqm = 0\n",
       "\t\t\t\td.body.classList.remove('ngn_bq')\n",
       "\t\t\t\tpd(x)\n",
       "\t\t\t\treturn !1\n",
       "\t\t\t}\n",
       "\t\t\tif (x.which > 31) { bqm = 0; d.body.classList.remove('ngn_bq') }\n",
       "\t\t\tif (c) { t.value = v.slice(0, i) + c + v.slice(i); t.selectionStart = t.selectionEnd = i + 1; pd(x); return !1 }\n",
       "\t\t}\n",
       "\t\tif (!x.ctrlKey && !x.shiftKey && !x.altKey && !x.metaKey) {\n",
       "\t\t\tif (\"`½²^º§ùµ°\".indexOf(x.key) > -1) {\n",
       "\t\t\t\tbqm = 1; d.body.classList.add('ngn_bq'); pd(x); // ` or other trigger symbol pressed, wait for next key\n",
       "\t\t\t} else if (x.key == \"Tab\") {\n",
       "\t\t\t\tlet i = t.selectionStart, v = t.value, c = tc[v.slice(i - 2, i)]\n",
       "\t\t\t\tif (c) { t.value = v.slice(0, i - 2) + c + v.slice(i); t.selectionStart = t.selectionEnd = i - 1; pd(x) }\n",
       "\t\t\t}\n",
       "\t\t}\n",
       "\t}\n",
       "\tlet ff = x => {\n",
       "\t\tlet t0 = x.target, nn = t0.nodeName.toLowerCase()\n",
       "\t\tif (nn !== 'textarea' && (nn !== 'input' || t0.type !== 'text' && t0.type !== 'search')) return\n",
       "\t\tt = t0; if (!t.ngn) { t.ngn = 1; ts.push(t); ev(t, 'keydown', fk) }\n",
       "\t}\n",
       "\tlet upd = _ => { d.body.style.marginTop = lb.clientHeight + 'px' }\n",
       "\tupd(); ev(window, 'resize', upd)\n",
       "\tev(d, 'focus', ff, !0); let ae = d.activeElement; ae && ff({ type: 'focus', target: ae })\n",
       "})();\n"
      ],
      "text/plain": [
       "<IPython.core.display.Javascript object>"
      ]
     },
     "metadata": {},
     "output_type": "display_data"
    },
    {
     "data": {
      "text/plain": [
       "[1, 2, 3]"
      ]
     },
     "execution_count": null,
     "metadata": {},
     "output_type": "execute_result"
    }
   ],
   "source": [
    "%%apl\n",
    "x←⍳3"
   ]
  },
  {
   "cell_type": "code",
   "execution_count": null,
   "id": "01890123",
   "metadata": {},
   "outputs": [
    {
     "data": {
      "text/plain": [
       "[1, 2, 3]"
      ]
     },
     "execution_count": null,
     "metadata": {},
     "output_type": "execute_result"
    }
   ],
   "source": [
    "%apl x"
   ]
  },
  {
   "cell_type": "code",
   "execution_count": null,
   "id": "a52bfb42",
   "metadata": {},
   "outputs": [
    {
     "name": "stdout",
     "output_type": "stream",
     "text": [
      "1 2 3\n"
     ]
    },
    {
     "data": {
      "text/plain": [
       "[1, 2, 3]"
      ]
     },
     "execution_count": null,
     "metadata": {},
     "output_type": "execute_result"
    }
   ],
   "source": [
    "%%apl\n",
    "⎕←x"
   ]
  },
  {
   "cell_type": "code",
   "execution_count": null,
   "id": "3c7ff112",
   "metadata": {},
   "outputs": [],
   "source": [
    "x = %apl x"
   ]
  },
  {
   "cell_type": "code",
   "execution_count": null,
   "id": "7bd64eb5",
   "metadata": {},
   "outputs": [
    {
     "data": {
      "text/plain": [
       "[1, 2, 3]"
      ]
     },
     "execution_count": null,
     "metadata": {},
     "output_type": "execute_result"
    }
   ],
   "source": [
    "x"
   ]
  },
  {
   "cell_type": "code",
   "execution_count": null,
   "id": "a9b17670",
   "metadata": {},
   "outputs": [
    {
     "data": {
      "text/plain": [
       "'ABCDEFGHIJKLMNOPQRSTUVWXYZ'"
      ]
     },
     "execution_count": null,
     "metadata": {},
     "output_type": "execute_result"
    }
   ],
   "source": [
    "%apl ⎕A"
   ]
  },
  {
   "cell_type": "code",
   "execution_count": null,
   "id": "3e0cb6bc",
   "metadata": {},
   "outputs": [],
   "source": [
    "#|export\n",
    "def load_ipython_extension(ipython): create_magic(shell=ipython)"
   ]
  },
  {
   "cell_type": "code",
   "execution_count": null,
   "id": "66869255",
   "metadata": {},
   "outputs": [],
   "source": [
    "#| export\n",
    "def create_ipython_config():\n",
    "    ipython_dir = Path(get_ipython_dir())\n",
    "    cf = ipython_dir/'profile_default'/'ipython_config.py'\n",
    "    cf.parent.mkdir(parents=True, exist_ok=True)\n",
    "    if cf.exists() and 'aplnb' in cf.read_text(): return print('aplnb already installed!')\n",
    "    with cf.open(mode='a') as f: f.write(\"\\nc.InteractiveShellApp.extensions.append('aplnb')\\n\\n\")\n",
    "    print(f\"Jupyter config updated at {cf}\")"
   ]
  },
  {
   "cell_type": "markdown",
   "id": "94ec4289",
   "metadata": {},
   "source": [
    "## Export -"
   ]
  },
  {
   "cell_type": "code",
   "execution_count": null,
   "id": "1e9ee5c1",
   "metadata": {},
   "outputs": [],
   "source": [
    "#|hide\n",
    "#|eval: false\n",
    "from nbdev.doclinks import nbdev_export\n",
    "nbdev_export()"
   ]
  },
  {
   "cell_type": "code",
   "execution_count": null,
   "id": "451d1ea6",
   "metadata": {},
   "outputs": [],
   "source": []
  }
 ],
 "metadata": {
  "kernelspec": {
   "display_name": "python3",
   "language": "python",
   "name": "python3"
  }
 },
 "nbformat": 4,
 "nbformat_minor": 5
}
